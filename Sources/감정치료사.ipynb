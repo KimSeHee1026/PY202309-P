{
 "cells": [
  {
   "cell_type": "code",
   "execution_count": 11,
   "id": "fe53bceb",
   "metadata": {},
   "outputs": [
    {
     "name": "stdout",
     "output_type": "stream",
     "text": [
      "전체를 전부 입력하세요 (txt포함)user_diary.txt\n",
      "\n",
      "\n",
      "['오늘 슬픈일이 있었다.', '시험을 망쳐서 기분이 좋지 않았다 열심히 했는데 시험이 망해서 기분이 슬프다', '집에 가는길에 괜히 우울했던것 같다.', '하지만 집에가서 맛있는 것을 먹고 나니', '다시 기분이 좋아지고 살짝 행복해졌다!', '역시 사람은 단순하다 :)', '내일도 열심히 살아야겠다!']\n",
      "\n",
      "\n",
      "오늘 슬픈일이 있었다.시험을 망쳐서 기분이 좋지 않았다 열심히 했는데 시험이 망해서 기분이 슬프다집에 가는길에 괜히 우울했던것 같다.하지만 집에가서 맛있는 것을 먹고 나니다시 기분이 좋아지고 살짝 행복해졌다!역시 사람은 단순하다 :)내일도 열심히 살아야겠다!\n"
     ]
    }
   ],
   "source": [
    "#사용자의 일기를 불러오는 함수\n",
    "def load_diary_from_file(filename):\n",
    "    diary_list = []\n",
    "    read_fp = open(filename, 'r', encoding=\"utf8\")\n",
    "    lines = read_fp.readlines()\n",
    "    for line in lines:\n",
    "        diary_list.append(line.strip())\n",
    "    return diary_list\n",
    "\n",
    "#사용자에 일기를 한줄로 붙여주는 함수\n",
    "def read_diary_sentence(list):\n",
    "    diary_sentence = ''\n",
    "    for sentence in list:\n",
    "        diary_sentence += sentence\n",
    "    return diary_sentence\n",
    "\n",
    "\n",
    "filename = input(\"전체를 전부 입력하세요 (txt포함)\")\n",
    "diary_list = load_diary_from_file(filename)\n",
    "print(f\"\\n\\n{diary_list}\")\n",
    "diary_sentence = read_diary_sentence(diary_list)\n",
    "print(f\"\\n\\n{diary_sentence}\")"
   ]
  },
  {
   "cell_type": "code",
   "execution_count": null,
   "id": "85cc292e",
   "metadata": {},
   "outputs": [],
   "source": []
  }
 ],
 "metadata": {
  "kernelspec": {
   "display_name": "Python 3 (ipykernel)",
   "language": "python",
   "name": "python3"
  },
  "language_info": {
   "codemirror_mode": {
    "name": "ipython",
    "version": 3
   },
   "file_extension": ".py",
   "mimetype": "text/x-python",
   "name": "python",
   "nbconvert_exporter": "python",
   "pygments_lexer": "ipython3",
   "version": "3.11.4"
  }
 },
 "nbformat": 4,
 "nbformat_minor": 5
}
