{
 "cells": [
  {
   "cell_type": "code",
   "execution_count": 18,
   "id": "fe53bceb",
   "metadata": {},
   "outputs": [
    {
     "name": "stdout",
     "output_type": "stream",
     "text": [
      "전체를 전부 입력하세요 (txt포함)user_diary.txt\n",
      "\n",
      " Ranking Check\n"
     ]
    },
    {
     "data": {
      "text/plain": [
       "[('Sad', 3), ('Happy', 2), ('Angry', 0), ('Die', 0)]"
      ]
     },
     "execution_count": 18,
     "metadata": {},
     "output_type": "execute_result"
    }
   ],
   "source": [
    "#감정 구별 리스트(알고리즘을 통해 더 추가해야하지 않을까?)\n",
    "sad = ['슬프다', '슬픔', '우울', '슬픈']\n",
    "happy = ['행복','좋았','기쁜','기쁘','좋던','좋아']\n",
    "angry = ['화나','화난','화났','화가났']\n",
    "die = ['죽고싶','죽다','죽은','죽었','죽음']\n",
    "\n",
    "#사용자의 일기를 불러오는 함수\n",
    "def load_diary_from_file(filename):\n",
    "    diary_list = []\n",
    "    read_fp = open(filename, 'r', encoding=\"utf8\")\n",
    "    lines = read_fp.readlines()\n",
    "    for line in lines:\n",
    "        diary_list.append(line.strip())\n",
    "    return diary_list\n",
    "\n",
    "#사용자에 일기를 한줄로 붙여주는 함수\n",
    "def read_diary_word(list):\n",
    "    diary_sentence = ''\n",
    "    for sentence in list:\n",
    "        diary_sentence += sentence\n",
    "    diary_word = diary_sentence.replace('.', '').split()\n",
    "    return diary_word\n",
    "\n",
    "#사용자의 단어에서 감정을 순위별로 나열하는 함수\n",
    "def word_calculate (words):\n",
    "    sad_count = 0\n",
    "    happy_count = 0\n",
    "    angry_count = 0\n",
    "    die_count = 0\n",
    "    \n",
    "    #사용자 단어에서 감정 리스트를 계산\n",
    "    for word in words: #사용자 words에서 word를 반복\n",
    "        for sameword in sad: #sad리스트에서 하나씩 꺼냄\n",
    "            if sameword in word:\n",
    "                sad_count += 1\n",
    "                \n",
    "        for sameword in happy:  # happy 리스트에서 하나씩 꺼냄\n",
    "            if sameword in word:\n",
    "                happy_count += 1\n",
    "\n",
    "        for sameword in angry:  # angry 리스트에서 하나씩 꺼냄\n",
    "            if sameword in word:\n",
    "                angry_count += 1\n",
    "\n",
    "        for sameword in die:  # die 리스트에서 하나씩 꺼냄\n",
    "            if sameword in word:\n",
    "                die_count += 1\n",
    "                  \n",
    "    # 감정 카운트를 딕셔너리에 저장\n",
    "    emotions = [('Sad', sad_count), ('Happy', happy_count), ('Angry', angry_count), ('Die', die_count)]\n",
    "    sorted_emotions = sorted(emotions, key=lambda x: x[1], reverse=True)\n",
    "\n",
    "    return sorted_emotions #반환값 [('Sad', 3), ('Happy', 2), ('Angry', 0), ('Die', 0)]\n",
    "\n",
    "    \n",
    "#나열된 감정들 중 높은 순위의 해결법을 출력해주는 함수(사용자 결과.txt로 파일 출력)\n",
    "\n",
    "\n",
    "filename = input(\"전체를 전부 입력하세요 (txt포함)\") #사용자의 일기를 단어로 분리하는 함수\n",
    "diary_list = load_diary_from_file(filename) #사용자 일기를 불러옴\n",
    "diary_word = read_diary_word(diary_list) # 사용자 일기를 단어별로 나누는 함수\n",
    "word_calculate(diary_word)"
   ]
  },
  {
   "cell_type": "code",
   "execution_count": null,
   "id": "85cc292e",
   "metadata": {},
   "outputs": [],
   "source": []
  }
 ],
 "metadata": {
  "kernelspec": {
   "display_name": "Python 3 (ipykernel)",
   "language": "python",
   "name": "python3"
  },
  "language_info": {
   "codemirror_mode": {
    "name": "ipython",
    "version": 3
   },
   "file_extension": ".py",
   "mimetype": "text/x-python",
   "name": "python",
   "nbconvert_exporter": "python",
   "pygments_lexer": "ipython3",
   "version": "3.11.4"
  }
 },
 "nbformat": 4,
 "nbformat_minor": 5
}
